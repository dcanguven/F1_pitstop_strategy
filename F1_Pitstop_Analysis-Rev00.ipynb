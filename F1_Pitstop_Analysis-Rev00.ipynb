{
 "cells": [
  {
   "cell_type": "markdown",
   "id": "d7e02088-9e04-4727-b4c1-87064531121e",
   "metadata": {},
   "source": [
    "<br>\n",
    "<br>\n",
    "<center>\n",
    "  <img src=\"https://upload.wikimedia.org/wikipedia/commons/thumb/3/33/F1.svg/320px-F1.svg.png\" alt=\"image.png\">\n",
    "<h1>FORMULA 1 PIT STOP ANALYSIS</h1>\n",
    "</center>\n",
    "\n",
    "<br>\n",
    "<br>\n"
   ]
  },
  {
   "cell_type": "markdown",
   "id": "e0a4def2-be33-49e6-b4d0-a893b054e0f5",
   "metadata": {},
   "source": [
    "# DESCRIPTION"
   ]
  },
  {
   "cell_type": "markdown",
   "id": "e5ae24eb-72ac-4ac8-bc7f-f7b8fa57bb80",
   "metadata": {},
   "source": [
    "## Main Objective\n",
    "\n",
    "Main objective of this notebook is to answer one simple question: \n",
    "\n",
    "*\"What is the optimal pit stop strategy for different tracks?\"*\n",
    "\n",
    "In Formula 1, pit stop strategy is crucial for several reasons:\n",
    "\n",
    "* **Tire Wear and Degradation**: Formula 1 tires wear out over the course of a race due to the high speeds and forces they endure. Pit stops allow teams to change tires when they are worn down or when conditions change (weather/track conditions).\n",
    "* **Strategy Adjustments**: Pit stops allow teams to adjust their strategy based on race conditions, such as switching from wet to dry tires or vice versa.\n",
    "* **Tactical Advantage**: Timing pit stops strategically can give a driver a tactical advantage over competitors, such as gaining track position or taking advantage of safety car periods.\n",
    "* **Undercut**: This is a common overtaking strategy facilitated by pit stops. When a driver pits earlier than their competitors, they aim to benefit from fresher tires that provide better grip and performance (eventually speed). This can allow them to gain track position by overtaking competitors who stay out longer on older tires.\n",
    "\n",
    "\n",
    "\n",
    "\n",
    "<br>\n",
    "<br>\n",
    "<center>\n",
    "  <img src=\"https://yourartshop-noldenh.com/wp-content/uploads/2010/09/Andreas-Gursky-F-1-Boxenstopp-Detail.jpg\" width=\"900\">\n",
    "</center>\n",
    "\n",
    "<br>\n",
    "<br>"
   ]
  },
  {
   "cell_type": "markdown",
   "id": "ea4ec34c-9565-4fe6-a776-a637974c39ef",
   "metadata": {},
   "source": [
    "## Datasets"
   ]
  },
  {
   "cell_type": "markdown",
   "id": "7b5e57e7-8c43-419c-a075-2b983ad4b2f4",
   "metadata": {},
   "source": [
    "4 datasets will be used. Each column of each dataset explained in the table below:"
   ]
  },
  {
   "cell_type": "markdown",
   "id": "35412864-8292-4d61-80ae-163baf87010d",
   "metadata": {},
   "source": [
    "| DATASET        | COLUMN NAME     | DESCRIPTION                         |\n",
    "|----------------|-----------------|-------------------------------------|\n",
    "| pit_stops.csv  | raceId          | Every race has a unique ID          |\n",
    "| pit_stops.csv  | driverId        | Every driver has a unique ID        |\n",
    "| pit_stops.csv  | stop            | Pitstop number in a race            |\n",
    "| pit_stops.csv  | lap             | Pitted lap                          |\n",
    "| pit_stops.csv  | duration        | Duration of pit stop                |\n",
    "| results.csv    | raceId          | Every race has a unique ID          |\n",
    "| results.csv    | driverId        | Every driver has a unique ID        |\n",
    "| results.csv    | constructorId   | Every team has a unique ID          |\n",
    "| results.csv    | grid            | Starting position of a driver       |\n",
    "| results.csv    | position        | Finishing position of a driver      |\n",
    "| results.csv    | statusId        | Unique ID for finishing status      |\n",
    "| races.csv      | raceId          | Every race has a unique ID          |\n",
    "| races.csv      | year            | Race date in years                  |\n",
    "| races.csv      | circuitId       | Every circuit has a unique ID       |\n",
    "| races.csv      | name            | Name of the race                    |\n",
    "| circuits.csv   | circuitId       | Every circuit has a unique ID       |\n",
    "| circuits.csv   | name            | Name of the circuit                 |"
   ]
  },
  {
   "cell_type": "markdown",
   "id": "59ccde80-f86d-4923-a13f-58bac473ed24",
   "metadata": {},
   "source": [
    "## Assumptions"
   ]
  },
  {
   "cell_type": "markdown",
   "id": "b678c798-86f6-45ea-8c37-675e4894f851",
   "metadata": {},
   "source": [
    "* Only the drivers that finished the races will be taken into account in order to measure the pit stop strategy success.\n",
    "* Stategy success measurement will be position gain or position protection. Position loss will be negatively evaluated.\n",
    "* Pitstop regulations change among history. Major change has been carried out in 2010. FIA banned refueling during pit stops. So it is safe to use data after 2010.\n",
    "* Results to be observed track by track. Latests tracks will be used in the analysis. Latests full set of information belongs to 2021 season.\n",
    "* Assume that more than 3 stops is not meaningful. It’s neither successful nor unsuccessful. It just doesn’t make sense."
   ]
  },
  {
   "cell_type": "markdown",
   "id": "c2bc0f83-69a6-4ce4-ab12-33c8b6c0abe4",
   "metadata": {},
   "source": [
    "# DATA EXPLORATION\n",
    "\n"
   ]
  },
  {
   "cell_type": "markdown",
   "id": "6728240c-b7ff-4b4e-b49a-9923fb74ccc2",
   "metadata": {},
   "source": [
    "## Import Libraries"
   ]
  },
  {
   "cell_type": "code",
   "execution_count": 1,
   "id": "e2fdb602-37fb-4987-b25a-1e860d5c68a8",
   "metadata": {},
   "outputs": [],
   "source": [
    "import numpy as np\n",
    "import pandas as pd\n",
    "import matplotlib.pyplot as plt\n",
    "import seaborn as sns\n",
    "\n",
    "# ignore all warnings\n",
    "import warnings\n",
    "warnings.simplefilter(\"ignore\")\n",
    "\n",
    "# timer\n",
    "import time\n",
    "start_time = time.time()"
   ]
  },
  {
   "cell_type": "markdown",
   "id": "a2579b97-c048-40ce-a253-3d8a9e77ef9c",
   "metadata": {},
   "source": [
    "## Import Datasets"
   ]
  },
  {
   "cell_type": "code",
   "execution_count": 2,
   "id": "1a3ccb38-f6e1-41b3-8eca-34a5d3d8dd72",
   "metadata": {},
   "outputs": [],
   "source": [
    "results = pd.read_csv(\"results.csv\")\n",
    "pit_stops = pd.read_csv(\"pit_stops.csv\")\n",
    "races = pd.read_csv(\"races.csv\", sep=\";\")\n",
    "circuits = pd.read_csv(\"circuits.csv\")"
   ]
  },
  {
   "cell_type": "markdown",
   "id": "f09c1f6a-aa75-41a6-b9fe-2cfc9b21ff35",
   "metadata": {},
   "source": [
    "## Generate Main Dataset"
   ]
  },
  {
   "cell_type": "markdown",
   "id": "4402b70c-a2fa-4df0-9751-f66c80461221",
   "metadata": {},
   "source": [
    "### Filter raceId by year and review how shape of data is changed\n",
    "\n",
    "Pitstop regulations change among history. Major change has been carried out in 2010. FIA banned refueling during pit stops. So it is safe to use data after 2011."
   ]
  },
  {
   "cell_type": "code",
   "execution_count": 3,
   "id": "43377045-699d-4eb4-854d-9a2656c05367",
   "metadata": {},
   "outputs": [
    {
     "data": {
      "text/html": [
       "<div>\n",
       "<style scoped>\n",
       "    .dataframe tbody tr th:only-of-type {\n",
       "        vertical-align: middle;\n",
       "    }\n",
       "\n",
       "    .dataframe tbody tr th {\n",
       "        vertical-align: top;\n",
       "    }\n",
       "\n",
       "    .dataframe thead th {\n",
       "        text-align: right;\n",
       "    }\n",
       "</style>\n",
       "<table border=\"1\" class=\"dataframe\">\n",
       "  <thead>\n",
       "    <tr style=\"text-align: right;\">\n",
       "      <th></th>\n",
       "      <th>Shape before</th>\n",
       "      <th>Shape After</th>\n",
       "    </tr>\n",
       "    <tr>\n",
       "      <th>Datasets</th>\n",
       "      <th></th>\n",
       "      <th></th>\n",
       "    </tr>\n",
       "  </thead>\n",
       "  <tbody>\n",
       "    <tr>\n",
       "      <th>races</th>\n",
       "      <td>(1079, 5)</td>\n",
       "      <td>(218, 5)</td>\n",
       "    </tr>\n",
       "    <tr>\n",
       "      <th>results</th>\n",
       "      <td>(25420, 18)</td>\n",
       "      <td>(4621, 18)</td>\n",
       "    </tr>\n",
       "    <tr>\n",
       "      <th>pit_stops</th>\n",
       "      <td>(8887, 7)</td>\n",
       "      <td>(8829, 7)</td>\n",
       "    </tr>\n",
       "  </tbody>\n",
       "</table>\n",
       "</div>"
      ],
      "text/plain": [
       "          Shape before Shape After\n",
       "Datasets                          \n",
       "races        (1079, 5)    (218, 5)\n",
       "results    (25420, 18)  (4621, 18)\n",
       "pit_stops    (8887, 7)   (8829, 7)"
      ]
     },
     "execution_count": 3,
     "metadata": {},
     "output_type": "execute_result"
    }
   ],
   "source": [
    "shapes = pd.DataFrame({\"Datasets\":[\"races\", \"results\", \"pit_stops\"],\"Shape before\":[races.shape, results.shape, pit_stops.shape]})\n",
    "races = races.query(\"2011 <= year <= 2021\")\n",
    "raceId_btw_2011_2021 = races.raceId.tolist()\n",
    "results = results.query(\"raceId in @raceId_btw_2011_2021\")\n",
    "pit_stops = pit_stops.query(\"raceId in @raceId_btw_2011_2021\")\n",
    "shapes[\"Shape After\"]=[races.shape, results.shape, pit_stops.shape]\n",
    "shapes.set_index(\"Datasets\")"
   ]
  },
  {
   "cell_type": "markdown",
   "id": "6f66d857-247c-4ca7-8c08-04abd474cacd",
   "metadata": {
    "scrolled": true
   },
   "source": [
    "### Edit pit_stops dataset. Eventually we will need Pit Counts of each driver for each race.\n",
    "\n",
    "* Review first 5 rows"
   ]
  },
  {
   "cell_type": "code",
   "execution_count": 4,
   "id": "9aa461fc-1db6-4530-a486-183f86b1f516",
   "metadata": {},
   "outputs": [
    {
     "data": {
      "text/html": [
       "<div>\n",
       "<style scoped>\n",
       "    .dataframe tbody tr th:only-of-type {\n",
       "        vertical-align: middle;\n",
       "    }\n",
       "\n",
       "    .dataframe tbody tr th {\n",
       "        vertical-align: top;\n",
       "    }\n",
       "\n",
       "    .dataframe thead th {\n",
       "        text-align: right;\n",
       "    }\n",
       "</style>\n",
       "<table border=\"1\" class=\"dataframe\">\n",
       "  <thead>\n",
       "    <tr style=\"text-align: right;\">\n",
       "      <th></th>\n",
       "      <th>raceId</th>\n",
       "      <th>driverId</th>\n",
       "      <th>stop</th>\n",
       "      <th>lap</th>\n",
       "      <th>time</th>\n",
       "      <th>duration</th>\n",
       "      <th>milliseconds</th>\n",
       "    </tr>\n",
       "  </thead>\n",
       "  <tbody>\n",
       "    <tr>\n",
       "      <th>0</th>\n",
       "      <td>841</td>\n",
       "      <td>153</td>\n",
       "      <td>1</td>\n",
       "      <td>1</td>\n",
       "      <td>17:05:23</td>\n",
       "      <td>26.898</td>\n",
       "      <td>26898</td>\n",
       "    </tr>\n",
       "    <tr>\n",
       "      <th>1</th>\n",
       "      <td>841</td>\n",
       "      <td>30</td>\n",
       "      <td>1</td>\n",
       "      <td>1</td>\n",
       "      <td>17:05:52</td>\n",
       "      <td>25.021</td>\n",
       "      <td>25021</td>\n",
       "    </tr>\n",
       "    <tr>\n",
       "      <th>2</th>\n",
       "      <td>841</td>\n",
       "      <td>17</td>\n",
       "      <td>1</td>\n",
       "      <td>11</td>\n",
       "      <td>17:20:48</td>\n",
       "      <td>23.426</td>\n",
       "      <td>23426</td>\n",
       "    </tr>\n",
       "    <tr>\n",
       "      <th>3</th>\n",
       "      <td>841</td>\n",
       "      <td>4</td>\n",
       "      <td>1</td>\n",
       "      <td>12</td>\n",
       "      <td>17:22:34</td>\n",
       "      <td>23.251</td>\n",
       "      <td>23251</td>\n",
       "    </tr>\n",
       "    <tr>\n",
       "      <th>4</th>\n",
       "      <td>841</td>\n",
       "      <td>13</td>\n",
       "      <td>1</td>\n",
       "      <td>13</td>\n",
       "      <td>17:24:10</td>\n",
       "      <td>23.842</td>\n",
       "      <td>23842</td>\n",
       "    </tr>\n",
       "  </tbody>\n",
       "</table>\n",
       "</div>"
      ],
      "text/plain": [
       "   raceId  driverId  stop  lap      time duration  milliseconds\n",
       "0     841       153     1    1  17:05:23   26.898         26898\n",
       "1     841        30     1    1  17:05:52   25.021         25021\n",
       "2     841        17     1   11  17:20:48   23.426         23426\n",
       "3     841         4     1   12  17:22:34   23.251         23251\n",
       "4     841        13     1   13  17:24:10   23.842         23842"
      ]
     },
     "execution_count": 4,
     "metadata": {},
     "output_type": "execute_result"
    }
   ],
   "source": [
    "pit_stops.head()"
   ]
  },
  {
   "cell_type": "markdown",
   "id": "2441c552-b730-4cc8-b455-1cf71de7c17c",
   "metadata": {},
   "source": [
    "* First, filter pitstops by duration. No pit stop takes longer than 5 minutes. If a Red Flag is deployed during race, which means race stops, drivers bring their cars to pit. So these red Flag situations must be eliminated from data."
   ]
  },
  {
   "cell_type": "code",
   "execution_count": 5,
   "id": "439f39c5-a8aa-4e3b-b8cb-50425928a130",
   "metadata": {},
   "outputs": [],
   "source": [
    "pit_stops = pit_stops.query(\"milliseconds<30000\")"
   ]
  },
  {
   "cell_type": "markdown",
   "id": "0a25cbef-0d8b-4755-a5fa-962d6103442b",
   "metadata": {},
   "source": [
    "* Count stops of each driver for each race."
   ]
  },
  {
   "cell_type": "code",
   "execution_count": 6,
   "id": "2c11a1f4-27ac-45c5-966e-30b93473800f",
   "metadata": {},
   "outputs": [
    {
     "data": {
      "text/html": [
       "<div>\n",
       "<style scoped>\n",
       "    .dataframe tbody tr th:only-of-type {\n",
       "        vertical-align: middle;\n",
       "    }\n",
       "\n",
       "    .dataframe tbody tr th {\n",
       "        vertical-align: top;\n",
       "    }\n",
       "\n",
       "    .dataframe thead th {\n",
       "        text-align: right;\n",
       "    }\n",
       "</style>\n",
       "<table border=\"1\" class=\"dataframe\">\n",
       "  <thead>\n",
       "    <tr style=\"text-align: right;\">\n",
       "      <th></th>\n",
       "      <th>raceId</th>\n",
       "      <th>driverId</th>\n",
       "      <th>number_of_pitstops</th>\n",
       "    </tr>\n",
       "  </thead>\n",
       "  <tbody>\n",
       "    <tr>\n",
       "      <th>0</th>\n",
       "      <td>841</td>\n",
       "      <td>1</td>\n",
       "      <td>2</td>\n",
       "    </tr>\n",
       "    <tr>\n",
       "      <th>1</th>\n",
       "      <td>841</td>\n",
       "      <td>2</td>\n",
       "      <td>2</td>\n",
       "    </tr>\n",
       "    <tr>\n",
       "      <th>2</th>\n",
       "      <td>841</td>\n",
       "      <td>3</td>\n",
       "      <td>1</td>\n",
       "    </tr>\n",
       "    <tr>\n",
       "      <th>3</th>\n",
       "      <td>841</td>\n",
       "      <td>4</td>\n",
       "      <td>3</td>\n",
       "    </tr>\n",
       "    <tr>\n",
       "      <th>4</th>\n",
       "      <td>841</td>\n",
       "      <td>5</td>\n",
       "      <td>1</td>\n",
       "    </tr>\n",
       "    <tr>\n",
       "      <th>5</th>\n",
       "      <td>841</td>\n",
       "      <td>10</td>\n",
       "      <td>1</td>\n",
       "    </tr>\n",
       "    <tr>\n",
       "      <th>6</th>\n",
       "      <td>841</td>\n",
       "      <td>13</td>\n",
       "      <td>3</td>\n",
       "    </tr>\n",
       "    <tr>\n",
       "      <th>7</th>\n",
       "      <td>841</td>\n",
       "      <td>15</td>\n",
       "      <td>2</td>\n",
       "    </tr>\n",
       "    <tr>\n",
       "      <th>8</th>\n",
       "      <td>841</td>\n",
       "      <td>16</td>\n",
       "      <td>2</td>\n",
       "    </tr>\n",
       "    <tr>\n",
       "      <th>9</th>\n",
       "      <td>841</td>\n",
       "      <td>17</td>\n",
       "      <td>3</td>\n",
       "    </tr>\n",
       "  </tbody>\n",
       "</table>\n",
       "</div>"
      ],
      "text/plain": [
       "   raceId  driverId  number_of_pitstops\n",
       "0     841         1                   2\n",
       "1     841         2                   2\n",
       "2     841         3                   1\n",
       "3     841         4                   3\n",
       "4     841         5                   1\n",
       "5     841        10                   1\n",
       "6     841        13                   3\n",
       "7     841        15                   2\n",
       "8     841        16                   2\n",
       "9     841        17                   3"
      ]
     },
     "execution_count": 6,
     "metadata": {},
     "output_type": "execute_result"
    }
   ],
   "source": [
    "pit_count = pit_stops.groupby([\"raceId\", \"driverId\"]).size().reset_index(name=\"number_of_pitstops\")\n",
    "pit_count.head(10)"
   ]
  },
  {
   "cell_type": "markdown",
   "id": "2bbcc316-3f1d-4052-b6d9-081dc8b71230",
   "metadata": {},
   "source": [
    "* Now **pit_count** is ready to be merged."
   ]
  },
  {
   "cell_type": "markdown",
   "id": "3ef11607-e5aa-4e24-8fc8-e9f6d45d5443",
   "metadata": {},
   "source": [
    "### Edit results dataset due to to assumption; only the drivers that finished the races will be taken into account in order to measure the pit stop strategy success."
   ]
  },
  {
   "cell_type": "markdown",
   "id": "78a8c50c-048b-4bb0-b169-cedd985f8697",
   "metadata": {},
   "source": [
    "* First reduce the number of columns to have a better view to merge\n",
    "  "
   ]
  },
  {
   "cell_type": "code",
   "execution_count": 7,
   "id": "1a53b746-e0bd-4acd-ac19-65fdec2ad77d",
   "metadata": {},
   "outputs": [],
   "source": [
    "results = results[[\"raceId\", \"driverId\", \"constructorId\", \"grid\", \"position\", \"statusId\"]]"
   ]
  },
  {
   "cell_type": "markdown",
   "id": "8f488218-173b-4246-98ae-f0a204a2440e",
   "metadata": {},
   "source": [
    "* Only the drivers that finished the races will be taken into account in order to measure the pit stop strategy success.\n",
    "* statusId = 1 means driver completed the race\n",
    "* Filter rows where statusId = 1"
   ]
  },
  {
   "cell_type": "code",
   "execution_count": 8,
   "id": "0d02a206-9e11-4074-8141-4c53a3198ef8",
   "metadata": {},
   "outputs": [],
   "source": [
    "results = results.query(\"statusId == 1\").reset_index(drop=True)"
   ]
  },
  {
   "cell_type": "code",
   "execution_count": 9,
   "id": "4fe7fdb9-a698-4dce-8071-69367fc9862d",
   "metadata": {},
   "outputs": [
    {
     "data": {
      "text/html": [
       "<div>\n",
       "<style scoped>\n",
       "    .dataframe tbody tr th:only-of-type {\n",
       "        vertical-align: middle;\n",
       "    }\n",
       "\n",
       "    .dataframe tbody tr th {\n",
       "        vertical-align: top;\n",
       "    }\n",
       "\n",
       "    .dataframe thead th {\n",
       "        text-align: right;\n",
       "    }\n",
       "</style>\n",
       "<table border=\"1\" class=\"dataframe\">\n",
       "  <thead>\n",
       "    <tr style=\"text-align: right;\">\n",
       "      <th></th>\n",
       "      <th>raceId</th>\n",
       "      <th>driverId</th>\n",
       "      <th>constructorId</th>\n",
       "      <th>grid</th>\n",
       "      <th>position</th>\n",
       "      <th>statusId</th>\n",
       "    </tr>\n",
       "  </thead>\n",
       "  <tbody>\n",
       "    <tr>\n",
       "      <th>0</th>\n",
       "      <td>841</td>\n",
       "      <td>20</td>\n",
       "      <td>9</td>\n",
       "      <td>1</td>\n",
       "      <td>1</td>\n",
       "      <td>1</td>\n",
       "    </tr>\n",
       "    <tr>\n",
       "      <th>1</th>\n",
       "      <td>841</td>\n",
       "      <td>1</td>\n",
       "      <td>1</td>\n",
       "      <td>2</td>\n",
       "      <td>2</td>\n",
       "      <td>1</td>\n",
       "    </tr>\n",
       "    <tr>\n",
       "      <th>2</th>\n",
       "      <td>841</td>\n",
       "      <td>808</td>\n",
       "      <td>4</td>\n",
       "      <td>6</td>\n",
       "      <td>3</td>\n",
       "      <td>1</td>\n",
       "    </tr>\n",
       "    <tr>\n",
       "      <th>3</th>\n",
       "      <td>841</td>\n",
       "      <td>4</td>\n",
       "      <td>6</td>\n",
       "      <td>5</td>\n",
       "      <td>4</td>\n",
       "      <td>1</td>\n",
       "    </tr>\n",
       "    <tr>\n",
       "      <th>4</th>\n",
       "      <td>841</td>\n",
       "      <td>17</td>\n",
       "      <td>9</td>\n",
       "      <td>3</td>\n",
       "      <td>5</td>\n",
       "      <td>1</td>\n",
       "    </tr>\n",
       "    <tr>\n",
       "      <th>5</th>\n",
       "      <td>841</td>\n",
       "      <td>18</td>\n",
       "      <td>1</td>\n",
       "      <td>4</td>\n",
       "      <td>6</td>\n",
       "      <td>1</td>\n",
       "    </tr>\n",
       "    <tr>\n",
       "      <th>6</th>\n",
       "      <td>841</td>\n",
       "      <td>13</td>\n",
       "      <td>6</td>\n",
       "      <td>8</td>\n",
       "      <td>7</td>\n",
       "      <td>1</td>\n",
       "    </tr>\n",
       "    <tr>\n",
       "      <th>7</th>\n",
       "      <td>842</td>\n",
       "      <td>20</td>\n",
       "      <td>9</td>\n",
       "      <td>1</td>\n",
       "      <td>1</td>\n",
       "      <td>1</td>\n",
       "    </tr>\n",
       "    <tr>\n",
       "      <th>8</th>\n",
       "      <td>842</td>\n",
       "      <td>18</td>\n",
       "      <td>1</td>\n",
       "      <td>4</td>\n",
       "      <td>2</td>\n",
       "      <td>1</td>\n",
       "    </tr>\n",
       "    <tr>\n",
       "      <th>9</th>\n",
       "      <td>842</td>\n",
       "      <td>2</td>\n",
       "      <td>4</td>\n",
       "      <td>6</td>\n",
       "      <td>3</td>\n",
       "      <td>1</td>\n",
       "    </tr>\n",
       "  </tbody>\n",
       "</table>\n",
       "</div>"
      ],
      "text/plain": [
       "   raceId  driverId  constructorId  grid position  statusId\n",
       "0     841        20              9     1        1         1\n",
       "1     841         1              1     2        2         1\n",
       "2     841       808              4     6        3         1\n",
       "3     841         4              6     5        4         1\n",
       "4     841        17              9     3        5         1\n",
       "5     841        18              1     4        6         1\n",
       "6     841        13              6     8        7         1\n",
       "7     842        20              9     1        1         1\n",
       "8     842        18              1     4        2         1\n",
       "9     842         2              4     6        3         1"
      ]
     },
     "execution_count": 9,
     "metadata": {},
     "output_type": "execute_result"
    }
   ],
   "source": [
    "results.head(10)"
   ]
  },
  {
   "cell_type": "markdown",
   "id": "c6c48b9d-8def-4815-b4ca-96497ee4c9fc",
   "metadata": {},
   "source": [
    "### Merge Datasets and simplify the columns: \n",
    "### results + pit_count + races ---> df"
   ]
  },
  {
   "cell_type": "code",
   "execution_count": 10,
   "id": "d618e53d-da74-4045-a03a-760f84048743",
   "metadata": {},
   "outputs": [],
   "source": [
    "df = results.merge(pit_count, on=[\"raceId\", \"driverId\"])\n",
    "df = df.merge(races, on=\"raceId\")"
   ]
  },
  {
   "cell_type": "code",
   "execution_count": 11,
   "id": "6c915a26-a435-4b68-9293-52bf197bdfdb",
   "metadata": {},
   "outputs": [],
   "source": [
    "df = df.drop([\"statusId\", \"year\", \"round\", \"name\"], axis=1)"
   ]
  },
  {
   "cell_type": "markdown",
   "id": "331eef71-fd40-4939-b72e-37a2c6e1b03e",
   "metadata": {},
   "source": [
    "### Features are ready. Now time to add **a target variable**. Add a column for the case \"Successful or Not Successful\" strategy based on following statement:\n"
   ]
  },
  {
   "cell_type": "markdown",
   "id": "3fdc0159-c326-4873-9719-966afe00d9ad",
   "metadata": {},
   "source": [
    "* Stategy success measurement will be position gain or position protection. Position loss will be negatively evaluated.\n",
    "* First, convert type of \"position\" into integer."
   ]
  },
  {
   "cell_type": "code",
   "execution_count": 12,
   "id": "410ed378-dcaf-4c84-96c0-f80e020f78a3",
   "metadata": {},
   "outputs": [],
   "source": [
    "df.position = df.position.astype(\"int\")"
   ]
  },
  {
   "cell_type": "markdown",
   "id": "0166f704-ec5f-4dff-8c3e-02d8b7e84026",
   "metadata": {},
   "source": [
    "* Now generate a new column that states strategy success in boolean. "
   ]
  },
  {
   "cell_type": "code",
   "execution_count": 13,
   "id": "43bdfb9c-ea5c-4488-aa30-a23576295119",
   "metadata": {},
   "outputs": [
    {
     "data": {
      "text/html": [
       "<div>\n",
       "<style scoped>\n",
       "    .dataframe tbody tr th:only-of-type {\n",
       "        vertical-align: middle;\n",
       "    }\n",
       "\n",
       "    .dataframe tbody tr th {\n",
       "        vertical-align: top;\n",
       "    }\n",
       "\n",
       "    .dataframe thead th {\n",
       "        text-align: right;\n",
       "    }\n",
       "</style>\n",
       "<table border=\"1\" class=\"dataframe\">\n",
       "  <thead>\n",
       "    <tr style=\"text-align: right;\">\n",
       "      <th></th>\n",
       "      <th>raceId</th>\n",
       "      <th>driverId</th>\n",
       "      <th>constructorId</th>\n",
       "      <th>grid</th>\n",
       "      <th>position</th>\n",
       "      <th>number_of_pitstops</th>\n",
       "      <th>circuitId</th>\n",
       "      <th>strategy_success</th>\n",
       "    </tr>\n",
       "  </thead>\n",
       "  <tbody>\n",
       "    <tr>\n",
       "      <th>0</th>\n",
       "      <td>841</td>\n",
       "      <td>20</td>\n",
       "      <td>9</td>\n",
       "      <td>1</td>\n",
       "      <td>1</td>\n",
       "      <td>2</td>\n",
       "      <td>1</td>\n",
       "      <td>1</td>\n",
       "    </tr>\n",
       "    <tr>\n",
       "      <th>1</th>\n",
       "      <td>841</td>\n",
       "      <td>1</td>\n",
       "      <td>1</td>\n",
       "      <td>2</td>\n",
       "      <td>2</td>\n",
       "      <td>2</td>\n",
       "      <td>1</td>\n",
       "      <td>1</td>\n",
       "    </tr>\n",
       "    <tr>\n",
       "      <th>2</th>\n",
       "      <td>841</td>\n",
       "      <td>808</td>\n",
       "      <td>4</td>\n",
       "      <td>6</td>\n",
       "      <td>3</td>\n",
       "      <td>2</td>\n",
       "      <td>1</td>\n",
       "      <td>0</td>\n",
       "    </tr>\n",
       "    <tr>\n",
       "      <th>3</th>\n",
       "      <td>841</td>\n",
       "      <td>4</td>\n",
       "      <td>6</td>\n",
       "      <td>5</td>\n",
       "      <td>4</td>\n",
       "      <td>3</td>\n",
       "      <td>1</td>\n",
       "      <td>0</td>\n",
       "    </tr>\n",
       "    <tr>\n",
       "      <th>4</th>\n",
       "      <td>841</td>\n",
       "      <td>17</td>\n",
       "      <td>9</td>\n",
       "      <td>3</td>\n",
       "      <td>5</td>\n",
       "      <td>3</td>\n",
       "      <td>1</td>\n",
       "      <td>1</td>\n",
       "    </tr>\n",
       "    <tr>\n",
       "      <th>...</th>\n",
       "      <td>...</td>\n",
       "      <td>...</td>\n",
       "      <td>...</td>\n",
       "      <td>...</td>\n",
       "      <td>...</td>\n",
       "      <td>...</td>\n",
       "      <td>...</td>\n",
       "      <td>...</td>\n",
       "    </tr>\n",
       "    <tr>\n",
       "      <th>2075</th>\n",
       "      <td>1073</td>\n",
       "      <td>846</td>\n",
       "      <td>1</td>\n",
       "      <td>3</td>\n",
       "      <td>7</td>\n",
       "      <td>2</td>\n",
       "      <td>24</td>\n",
       "      <td>1</td>\n",
       "    </tr>\n",
       "    <tr>\n",
       "      <th>2076</th>\n",
       "      <td>1073</td>\n",
       "      <td>4</td>\n",
       "      <td>214</td>\n",
       "      <td>11</td>\n",
       "      <td>8</td>\n",
       "      <td>1</td>\n",
       "      <td>24</td>\n",
       "      <td>0</td>\n",
       "    </tr>\n",
       "    <tr>\n",
       "      <th>2077</th>\n",
       "      <td>1073</td>\n",
       "      <td>839</td>\n",
       "      <td>214</td>\n",
       "      <td>9</td>\n",
       "      <td>9</td>\n",
       "      <td>1</td>\n",
       "      <td>24</td>\n",
       "      <td>1</td>\n",
       "    </tr>\n",
       "    <tr>\n",
       "      <th>2078</th>\n",
       "      <td>1073</td>\n",
       "      <td>844</td>\n",
       "      <td>6</td>\n",
       "      <td>7</td>\n",
       "      <td>10</td>\n",
       "      <td>2</td>\n",
       "      <td>24</td>\n",
       "      <td>1</td>\n",
       "    </tr>\n",
       "    <tr>\n",
       "      <th>2079</th>\n",
       "      <td>1073</td>\n",
       "      <td>20</td>\n",
       "      <td>117</td>\n",
       "      <td>15</td>\n",
       "      <td>11</td>\n",
       "      <td>1</td>\n",
       "      <td>24</td>\n",
       "      <td>0</td>\n",
       "    </tr>\n",
       "  </tbody>\n",
       "</table>\n",
       "<p>2080 rows × 8 columns</p>\n",
       "</div>"
      ],
      "text/plain": [
       "      raceId  driverId  constructorId  grid  position  number_of_pitstops  \\\n",
       "0        841        20              9     1         1                   2   \n",
       "1        841         1              1     2         2                   2   \n",
       "2        841       808              4     6         3                   2   \n",
       "3        841         4              6     5         4                   3   \n",
       "4        841        17              9     3         5                   3   \n",
       "...      ...       ...            ...   ...       ...                 ...   \n",
       "2075    1073       846              1     3         7                   2   \n",
       "2076    1073         4            214    11         8                   1   \n",
       "2077    1073       839            214     9         9                   1   \n",
       "2078    1073       844              6     7        10                   2   \n",
       "2079    1073        20            117    15        11                   1   \n",
       "\n",
       "      circuitId  strategy_success  \n",
       "0             1                 1  \n",
       "1             1                 1  \n",
       "2             1                 0  \n",
       "3             1                 0  \n",
       "4             1                 1  \n",
       "...         ...               ...  \n",
       "2075         24                 1  \n",
       "2076         24                 0  \n",
       "2077         24                 1  \n",
       "2078         24                 1  \n",
       "2079         24                 0  \n",
       "\n",
       "[2080 rows x 8 columns]"
      ]
     },
     "execution_count": 13,
     "metadata": {},
     "output_type": "execute_result"
    }
   ],
   "source": [
    "df['strategy_success'] = df.apply(lambda row: 1 if row['position'] >= row['grid'] else 0, axis=1)\n",
    "df"
   ]
  },
  {
   "cell_type": "markdown",
   "id": "71a762ed-dc0e-4e19-ae72-40badefa5637",
   "metadata": {},
   "source": [
    "### Final adjustment on data: remove rows where number of pit stops are more than 3."
   ]
  },
  {
   "cell_type": "markdown",
   "id": "f368b4f3-7b55-447a-8082-a6d0167a0327",
   "metadata": {},
   "source": [
    "* Assume that more than 3 stops is not meaningful. It’s neither successful nor unsuccessful. It just doesn’t make sense.\n",
    "* Remove rows where number_of_pitstops is more than 3.\n",
    "* First check value counts."
   ]
  },
  {
   "cell_type": "code",
   "execution_count": 14,
   "id": "a0e68a2a-a68e-4543-a53b-c14b96c7f31f",
   "metadata": {},
   "outputs": [
    {
     "data": {
      "text/plain": [
       "number_of_pitstops\n",
       "2    867\n",
       "1    735\n",
       "3    360\n",
       "4     93\n",
       "5     21\n",
       "6      4\n",
       "Name: count, dtype: int64"
      ]
     },
     "execution_count": 14,
     "metadata": {},
     "output_type": "execute_result"
    }
   ],
   "source": [
    "df.number_of_pitstops.value_counts()"
   ]
  },
  {
   "cell_type": "markdown",
   "id": "640783fe-ec15-41b3-92bf-0a1d71455af8",
   "metadata": {},
   "source": [
    "* 109 rows are needed to be removed."
   ]
  },
  {
   "cell_type": "code",
   "execution_count": 15,
   "id": "3b9cb619-3083-4f89-8c1c-84bf05be6766",
   "metadata": {},
   "outputs": [],
   "source": [
    "df = df[df['number_of_pitstops'] <= 3]"
   ]
  },
  {
   "cell_type": "code",
   "execution_count": 16,
   "id": "0cd7a423-7649-49dd-a3f3-adbc3f88fa3a",
   "metadata": {},
   "outputs": [
    {
     "data": {
      "text/plain": [
       "number_of_pitstops\n",
       "2    867\n",
       "1    735\n",
       "3    360\n",
       "Name: count, dtype: int64"
      ]
     },
     "execution_count": 16,
     "metadata": {},
     "output_type": "execute_result"
    }
   ],
   "source": [
    "df.number_of_pitstops.value_counts()"
   ]
  },
  {
   "cell_type": "markdown",
   "id": "bbd94946-3ef1-4f30-b9b7-a4c6370ef7b1",
   "metadata": {},
   "source": [
    "### Check Yes / No distribution in target variable: \"strategy_success\""
   ]
  },
  {
   "cell_type": "code",
   "execution_count": 17,
   "id": "59e418f8-c7ec-4e4a-944d-112935f5c30e",
   "metadata": {},
   "outputs": [
    {
     "data": {
      "text/plain": [
       "strategy_success\n",
       "0    1113\n",
       "1     849\n",
       "Name: count, dtype: int64"
      ]
     },
     "execution_count": 17,
     "metadata": {},
     "output_type": "execute_result"
    }
   ],
   "source": [
    "df.strategy_success.value_counts()"
   ]
  },
  {
   "cell_type": "markdown",
   "id": "14b8ba54-8ec0-4817-a1bb-80573abf3ccf",
   "metadata": {},
   "source": [
    "### Description of dataframe"
   ]
  },
  {
   "cell_type": "code",
   "execution_count": 18,
   "id": "40166e7f-03eb-49c7-a857-1fae37406f86",
   "metadata": {},
   "outputs": [
    {
     "data": {
      "text/html": [
       "<div>\n",
       "<style scoped>\n",
       "    .dataframe tbody tr th:only-of-type {\n",
       "        vertical-align: middle;\n",
       "    }\n",
       "\n",
       "    .dataframe tbody tr th {\n",
       "        vertical-align: top;\n",
       "    }\n",
       "\n",
       "    .dataframe thead th {\n",
       "        text-align: right;\n",
       "    }\n",
       "</style>\n",
       "<table border=\"1\" class=\"dataframe\">\n",
       "  <thead>\n",
       "    <tr style=\"text-align: right;\">\n",
       "      <th></th>\n",
       "      <th>number_of_pitstops</th>\n",
       "      <th>strategy_success</th>\n",
       "    </tr>\n",
       "  </thead>\n",
       "  <tbody>\n",
       "    <tr>\n",
       "      <th>count</th>\n",
       "      <td>1962.00</td>\n",
       "      <td>1962.00</td>\n",
       "    </tr>\n",
       "    <tr>\n",
       "      <th>mean</th>\n",
       "      <td>1.81</td>\n",
       "      <td>0.43</td>\n",
       "    </tr>\n",
       "    <tr>\n",
       "      <th>std</th>\n",
       "      <td>0.72</td>\n",
       "      <td>0.50</td>\n",
       "    </tr>\n",
       "    <tr>\n",
       "      <th>min</th>\n",
       "      <td>1.00</td>\n",
       "      <td>0.00</td>\n",
       "    </tr>\n",
       "    <tr>\n",
       "      <th>25%</th>\n",
       "      <td>1.00</td>\n",
       "      <td>0.00</td>\n",
       "    </tr>\n",
       "    <tr>\n",
       "      <th>50%</th>\n",
       "      <td>2.00</td>\n",
       "      <td>0.00</td>\n",
       "    </tr>\n",
       "    <tr>\n",
       "      <th>75%</th>\n",
       "      <td>2.00</td>\n",
       "      <td>1.00</td>\n",
       "    </tr>\n",
       "    <tr>\n",
       "      <th>max</th>\n",
       "      <td>3.00</td>\n",
       "      <td>1.00</td>\n",
       "    </tr>\n",
       "  </tbody>\n",
       "</table>\n",
       "</div>"
      ],
      "text/plain": [
       "       number_of_pitstops  strategy_success\n",
       "count             1962.00           1962.00\n",
       "mean                 1.81              0.43\n",
       "std                  0.72              0.50\n",
       "min                  1.00              0.00\n",
       "25%                  1.00              0.00\n",
       "50%                  2.00              0.00\n",
       "75%                  2.00              1.00\n",
       "max                  3.00              1.00"
      ]
     },
     "execution_count": 18,
     "metadata": {},
     "output_type": "execute_result"
    }
   ],
   "source": [
    "df.describe().round(2)[[\"number_of_pitstops\",\"strategy_success\" ]]"
   ]
  },
  {
   "cell_type": "markdown",
   "id": "2654a215-b20c-4fda-923e-5bf309656334",
   "metadata": {},
   "source": [
    "# GENERATE CLASSIFICATION MODELS"
   ]
  },
  {
   "cell_type": "markdown",
   "id": "feeabee2-905c-44f4-9e26-45c925cc7e9b",
   "metadata": {},
   "source": [
    "## Import Libraries"
   ]
  },
  {
   "cell_type": "code",
   "execution_count": 19,
   "id": "efa1083e-2123-48f5-8dac-b9afe9424230",
   "metadata": {},
   "outputs": [],
   "source": [
    "from sklearn.model_selection import train_test_split, GridSearchCV\n",
    "from sklearn.linear_model import LogisticRegression\n",
    "from sklearn.tree import DecisionTreeClassifier\n",
    "from sklearn.ensemble import RandomForestClassifier, GradientBoostingClassifier\n",
    "from sklearn.svm import SVC\n",
    "from sklearn.neighbors import KNeighborsClassifier\n",
    "from sklearn.metrics import accuracy_score, confusion_matrix, ConfusionMatrixDisplay\n",
    "from sklearn.preprocessing import StandardScaler, PowerTransformer\n",
    "from sklearn.pipeline import Pipeline\n",
    "import matplotlib.pyplot as plt"
   ]
  },
  {
   "cell_type": "markdown",
   "id": "3ec9843e-a63b-488a-b855-ea3cc9e86f54",
   "metadata": {},
   "source": [
    "## Prepare for Modelling"
   ]
  },
  {
   "cell_type": "markdown",
   "id": "7f75c375-302a-42ca-acfd-74fb3aed0e9f",
   "metadata": {},
   "source": [
    "### Define features and target variable"
   ]
  },
  {
   "cell_type": "code",
   "execution_count": 20,
   "id": "c6c91893-d430-4db8-8d98-f433ccfac161",
   "metadata": {},
   "outputs": [],
   "source": [
    "X = df[['number_of_pitstops', 'circuitId', 'driverId', 'constructorId', 'grid']]\n",
    "y = df['strategy_success']"
   ]
  },
  {
   "cell_type": "markdown",
   "id": "eb2a5651-1a8e-48bc-b673-fce7ffd7641e",
   "metadata": {},
   "source": [
    "### One-hot encode categorical features"
   ]
  },
  {
   "cell_type": "code",
   "execution_count": 21,
   "id": "efad07ce-5c92-40bd-ab14-41db62da6af6",
   "metadata": {},
   "outputs": [],
   "source": [
    "X_encoded = pd.get_dummies(X, columns=['circuitId', 'driverId', 'constructorId'], drop_first=True)"
   ]
  },
  {
   "cell_type": "markdown",
   "id": "95ac1516-e4d0-49a0-9907-2462d599fb26",
   "metadata": {},
   "source": [
    "### Split Train and Test data"
   ]
  },
  {
   "cell_type": "code",
   "execution_count": 22,
   "id": "dd80270b-8706-4caf-96d8-33189cf280bd",
   "metadata": {},
   "outputs": [],
   "source": [
    "X_train, X_test, y_train, y_test = train_test_split(X, y, test_size=0.2, random_state=1)"
   ]
  },
  {
   "cell_type": "markdown",
   "id": "2f70ba33-acd7-46c3-b790-010768cff491",
   "metadata": {},
   "source": [
    "### Define the models and their parameter grids"
   ]
  },
  {
   "cell_type": "code",
   "execution_count": 23,
   "id": "b2dde5b3-b3b0-404b-a75c-2ce921d9134e",
   "metadata": {},
   "outputs": [],
   "source": [
    "logreg_pipeline = Pipeline([('scaler', StandardScaler()), ('logreg', LogisticRegression())])\n",
    "dt_pipeline = Pipeline([('scaler', StandardScaler()), ('dt', DecisionTreeClassifier())])\n",
    "rf_pipeline = Pipeline([('scaler', StandardScaler()), ('rf', RandomForestClassifier())])\n",
    "svm_pipeline = Pipeline([('scaler', StandardScaler()), ('svm', SVC(probability=True))])\n",
    "knn_pipeline = Pipeline([('scaler', StandardScaler()), ('knn', KNeighborsClassifier())])\n",
    "gbc_pipeline = Pipeline([('scaler', StandardScaler()), ('gbc', GradientBoostingClassifier())])"
   ]
  },
  {
   "cell_type": "markdown",
   "id": "124182c1-299a-47b4-9f46-414e33ac6c06",
   "metadata": {},
   "source": [
    "### Define tuning parameters."
   ]
  },
  {
   "cell_type": "code",
   "execution_count": 24,
   "id": "af7262f7-58e6-452b-aa25-cd1ae1577b88",
   "metadata": {},
   "outputs": [],
   "source": [
    "logreg_param_grid = {\n",
    "    'logreg__C': [0.01, 0.1, 1.0, 10.0, 100],\n",
    "    'logreg__solver': ['liblinear', 'lbfgs'],\n",
    "    'logreg__max_iter': [100, 1000],\n",
    "    'logreg__penalty': ['l1', 'l2']\n",
    "}\n",
    "\n",
    "dt_param_grid = {\n",
    "    'dt__max_depth': [None, 5, 10, 20, 50],\n",
    "    'dt__min_samples_split': [2, 5, 10, 20],\n",
    "    'dt__min_samples_leaf': [1, 2, 4, 10]\n",
    "}\n",
    "\n",
    "rf_param_grid = {\n",
    "    'rf__n_estimators': [50, 100, 200, 500],\n",
    "    'rf__max_depth': [None, 5, 10, 20, 50],\n",
    "    'rf__min_samples_split': [2, 5, 10],\n",
    "    'rf__min_samples_leaf': [1, 2, 4]\n",
    "}\n",
    "\n",
    "svm_param_grid = {\n",
    "    'svm__C': [0.01, 0.1, 1, 10, 100],\n",
    "    'svm__kernel': ['linear', 'rbf', 'poly'],\n",
    "    'svm__gamma': ['scale', 'auto']\n",
    "}\n",
    "\n",
    "knn_param_grid = {\n",
    "    'knn__n_neighbors': [3, 5, 7, 9, 11],\n",
    "    'knn__weights': ['uniform', 'distance'],\n",
    "    'knn__algorithm': ['auto', 'ball_tree', 'kd_tree', 'brute']\n",
    "}\n",
    "\n",
    "gbc_param_grid = {\n",
    "    'gbc__n_estimators': [50, 100, 200],\n",
    "    'gbc__learning_rate': [0.01, 0.1, 0.2],\n",
    "    'gbc__max_depth': [3, 5, 10]\n",
    "}\n",
    "\n"
   ]
  },
  {
   "cell_type": "markdown",
   "id": "afb8619c-f716-4c61-93ff-3cfce0b5fa68",
   "metadata": {},
   "source": [
    "### List the pipelines and parameter grids"
   ]
  },
  {
   "cell_type": "code",
   "execution_count": 25,
   "id": "7670821c-5486-4fe4-a1b6-42b4466e7231",
   "metadata": {},
   "outputs": [],
   "source": [
    "pipelines = [\n",
    "    ('LogisticRegression', logreg_pipeline, logreg_param_grid),\n",
    "    ('DecisionTree', dt_pipeline, dt_param_grid),\n",
    "    ('RandomForest', rf_pipeline, rf_param_grid),\n",
    "    ('SupportVectorMachine', svm_pipeline, svm_param_grid),\n",
    "    ('KNeighbors', knn_pipeline, knn_param_grid),\n",
    "    ('GradientBoosting', gbc_pipeline, gbc_param_grid)\n",
    "]"
   ]
  },
  {
   "cell_type": "markdown",
   "id": "cabe7b77-5648-40b5-a38d-036d04bd242d",
   "metadata": {},
   "source": [
    "## Start Modelling"
   ]
  },
  {
   "cell_type": "markdown",
   "id": "d3fe474d-5801-45e5-89c5-3950f2f2ae76",
   "metadata": {},
   "source": [
    "### Perform Grid Search"
   ]
  },
  {
   "cell_type": "markdown",
   "id": "3363b17e-3c20-43f4-bc0b-f72f04d98b31",
   "metadata": {},
   "source": [
    "* Create a results empty list\n",
    "* Perform Grid Search for each element and save results into results list\n",
    "* Convert list into a dataframe\n",
    "* Use name, pipeline and parameters in for loop for all models"
   ]
  },
  {
   "cell_type": "code",
   "execution_count": 26,
   "id": "857e0931-ac11-4289-9165-c7be0cd63665",
   "metadata": {},
   "outputs": [
    {
     "name": "stdout",
     "output_type": "stream",
     "text": [
      "Performing LogisticRegression...\n",
      "The best parameters of LogisticRegression: {'logreg__C': 0.01, 'logreg__max_iter': 100, 'logreg__penalty': 'l2', 'logreg__solver': 'lbfgs'}\n",
      "Performing DecisionTree...\n",
      "The best parameters of DecisionTree: {'dt__max_depth': 5, 'dt__min_samples_leaf': 10, 'dt__min_samples_split': 2}\n",
      "Performing RandomForest...\n",
      "The best parameters of RandomForest: {'rf__max_depth': 10, 'rf__min_samples_leaf': 4, 'rf__min_samples_split': 10, 'rf__n_estimators': 100}\n",
      "Performing SupportVectorMachine...\n",
      "The best parameters of SupportVectorMachine: {'svm__C': 10, 'svm__gamma': 'scale', 'svm__kernel': 'rbf'}\n",
      "Performing KNeighbors...\n",
      "The best parameters of KNeighbors: {'knn__algorithm': 'auto', 'knn__n_neighbors': 11, 'knn__weights': 'uniform'}\n",
      "Performing GradientBoosting...\n",
      "The best parameters of GradientBoosting: {'gbc__learning_rate': 0.1, 'gbc__max_depth': 3, 'gbc__n_estimators': 100}\n",
      "--- Process Completed ---\n"
     ]
    }
   ],
   "source": [
    "results = []\n",
    "\n",
    "for name, pipeline, param_grid in pipelines:\n",
    "    print(f\"Performing {name}...\")\n",
    "    grid_search = GridSearchCV(pipeline, param_grid, cv=5, scoring='accuracy')\n",
    "    grid_search.fit(X_train, y_train)\n",
    "    \n",
    "    # Record results\n",
    "    best_params = grid_search.best_params_\n",
    "    best_score = grid_search.best_score_\n",
    "    print(f\"The best parameters of {name}: {best_params}\")\n",
    "    y_pred = grid_search.predict(X_test)\n",
    "    accuracy = accuracy_score(y_test, y_pred)\n",
    "    cm = confusion_matrix(y_test, y_pred)\n",
    "    cm_accuracy=cm[1,1]/(cm[1,0]+cm[1,1])\n",
    "\n",
    "    results.append({\n",
    "        'Model': name,\n",
    "        'Accuracy': accuracy.round(3),\n",
    "        'Confusion Matrix TP/(TP+FN): ':cm_accuracy\n",
    "    })\n",
    "\n",
    "results_df = pd.DataFrame(results)\n",
    "print(\"--- Process Completed ---\")"
   ]
  },
  {
   "cell_type": "code",
   "execution_count": 27,
   "id": "ac5a0708-3e31-4cae-a819-4af5e78dd08b",
   "metadata": {},
   "outputs": [
    {
     "data": {
      "text/html": [
       "<div>\n",
       "<style scoped>\n",
       "    .dataframe tbody tr th:only-of-type {\n",
       "        vertical-align: middle;\n",
       "    }\n",
       "\n",
       "    .dataframe tbody tr th {\n",
       "        vertical-align: top;\n",
       "    }\n",
       "\n",
       "    .dataframe thead th {\n",
       "        text-align: right;\n",
       "    }\n",
       "</style>\n",
       "<table border=\"1\" class=\"dataframe\">\n",
       "  <thead>\n",
       "    <tr style=\"text-align: right;\">\n",
       "      <th></th>\n",
       "      <th>Model</th>\n",
       "      <th>Accuracy</th>\n",
       "      <th>Confusion Matrix TP/(TP+FN):</th>\n",
       "    </tr>\n",
       "  </thead>\n",
       "  <tbody>\n",
       "    <tr>\n",
       "      <th>0</th>\n",
       "      <td>LogisticRegression</td>\n",
       "      <td>0.725</td>\n",
       "      <td>0.680723</td>\n",
       "    </tr>\n",
       "    <tr>\n",
       "      <th>1</th>\n",
       "      <td>DecisionTree</td>\n",
       "      <td>0.720</td>\n",
       "      <td>0.536145</td>\n",
       "    </tr>\n",
       "    <tr>\n",
       "      <th>2</th>\n",
       "      <td>RandomForest</td>\n",
       "      <td>0.746</td>\n",
       "      <td>0.680723</td>\n",
       "    </tr>\n",
       "    <tr>\n",
       "      <th>3</th>\n",
       "      <td>SupportVectorMachine</td>\n",
       "      <td>0.733</td>\n",
       "      <td>0.674699</td>\n",
       "    </tr>\n",
       "    <tr>\n",
       "      <th>4</th>\n",
       "      <td>KNeighbors</td>\n",
       "      <td>0.710</td>\n",
       "      <td>0.638554</td>\n",
       "    </tr>\n",
       "    <tr>\n",
       "      <th>5</th>\n",
       "      <td>GradientBoosting</td>\n",
       "      <td>0.748</td>\n",
       "      <td>0.704819</td>\n",
       "    </tr>\n",
       "  </tbody>\n",
       "</table>\n",
       "</div>"
      ],
      "text/plain": [
       "                  Model  Accuracy  Confusion Matrix TP/(TP+FN): \n",
       "0    LogisticRegression     0.725                       0.680723\n",
       "1          DecisionTree     0.720                       0.536145\n",
       "2          RandomForest     0.746                       0.680723\n",
       "3  SupportVectorMachine     0.733                       0.674699\n",
       "4            KNeighbors     0.710                       0.638554\n",
       "5      GradientBoosting     0.748                       0.704819"
      ]
     },
     "execution_count": 27,
     "metadata": {},
     "output_type": "execute_result"
    }
   ],
   "source": [
    "results_df"
   ]
  },
  {
   "cell_type": "markdown",
   "id": "4c2401a0-4721-4110-b2fc-a21f0ea48a4d",
   "metadata": {},
   "source": [
    "## SELECTED MODEL : GRADIENT BOOSTING\n",
    "\n",
    "* Gradient Boosting has the highest accuracy with **0.748**, and it has higher **TP/(TP+FN) ratio**.\n",
    "* TP/(TP+FN) ratio is critical because we want to predict **correct** pitstop strategy which is TP.\n",
    "* Best parameters will be used in the model:\n",
    "\n",
    "The best parameters of GradientBoosting: {'gbc__learning_rate': 0.1, 'gbc__max_depth': 3, 'gbc__n_estimators': 100}"
   ]
  },
  {
   "cell_type": "markdown",
   "id": "6978c286-7c65-4f7b-ba4f-b73bc2e54c5a",
   "metadata": {},
   "source": [
    "### Repeat Logistic Regression with the best parameters"
   ]
  },
  {
   "cell_type": "code",
   "execution_count": 28,
   "id": "278047a2-1a7a-48db-b718-bff94ba67cf4",
   "metadata": {},
   "outputs": [],
   "source": [
    "grboost = GradientBoostingClassifier(learning_rate=0.1, max_depth=3, n_estimators=100)\n",
    "grboost.fit(X_train, y_train)\n",
    "y_pred = grboost.predict(X_test)\n",
    "y_proba = grboost.predict_proba(X_test)"
   ]
  },
  {
   "cell_type": "markdown",
   "id": "a32bc9e2-b2c6-4977-a14e-d7ef7138c566",
   "metadata": {},
   "source": [
    "### Generate and visualize confusion matrix"
   ]
  },
  {
   "cell_type": "code",
   "execution_count": 29,
   "id": "a24e3ee9-727b-4ddc-9045-2be2027902a4",
   "metadata": {},
   "outputs": [
    {
     "data": {
      "image/png": "[encoded data removed]",
      "text/plain": [
       "<Figure size 640x480 with 2 Axes>"
      ]
     },
     "metadata": {},
     "output_type": "display_data"
    }
   ],
   "source": [
    "cm = confusion_matrix(y_test, y_pred)\n",
    "disp = ConfusionMatrixDisplay(confusion_matrix=cm, display_labels=grboost.classes_)\n",
    "disp.plot(cmap=plt.cm.Blues)\n",
    "plt.show()"
   ]
  },
  {
   "cell_type": "markdown",
   "id": "6acc4e1a-5a0c-45c1-9adf-c98e7bdec8a1",
   "metadata": {},
   "source": [
    "### Optimize Threshold"
   ]
  },
  {
   "cell_type": "code",
   "execution_count": 30,
   "id": "ca1e03a9-5392-4d11-bc72-c69a05fcc21b",
   "metadata": {},
   "outputs": [
    {
     "data": {
      "image/png": "[encoded data removed]",
      "text/plain": [
       "<Figure size 640x480 with 1 Axes>"
      ]
     },
     "metadata": {},
     "output_type": "display_data"
    },
    {
     "name": "stdout",
     "output_type": "stream",
     "text": [
      "Optimal threshold: 0.4605210934557429\n"
     ]
    }
   ],
   "source": [
    "from sklearn.metrics import accuracy_score, precision_recall_curve, roc_curve, auc, f1_score\n",
    "threshold = 0.38270717382988123\n",
    "y_pred_prob = grboost.predict_proba(X_test)[:, 1] \n",
    "y_pred = np.where(y_pred_prob > threshold, 1, 0)\n",
    "\n",
    "y_pred = np.where(y_pred_prob > threshold, 1, 0)\n",
    "\n",
    "# Calculate the ROC curve\n",
    "fpr, tpr, thresholds = roc_curve(y_test, y_pred_prob)\n",
    "roc_auc = auc(fpr, tpr)\n",
    "\n",
    "# Plot ROC curve\n",
    "plt.figure()\n",
    "plt.plot(fpr, tpr, color='darkorange', lw=2, label=f'ROC curve (area = {roc_auc:.2f})')\n",
    "plt.plot([0, 1], [0, 1], color='navy', lw=2, linestyle='--')\n",
    "plt.xlim([0.0, 1.0])\n",
    "plt.ylim([0.0, 1.05])\n",
    "plt.xlabel('False Positive Rate')\n",
    "plt.ylabel('True Positive Rate')\n",
    "plt.title('ROC Curve')\n",
    "plt.legend(loc=\"lower right\")\n",
    "plt.show()\n",
    "\n",
    "# Find the best threshold\n",
    "optimal_idx = np.argmax(tpr - fpr)\n",
    "optimal_threshold = thresholds[optimal_idx]\n",
    "print(f'Optimal threshold: {optimal_threshold}')"
   ]
  },
  {
   "cell_type": "markdown",
   "id": "8498c04c-07a6-45f0-980f-05ef29ff44b3",
   "metadata": {},
   "source": [
    "### Use optimized threshold"
   ]
  },
  {
   "cell_type": "code",
   "execution_count": 31,
   "id": "f22e57af-be91-4532-8d1a-c4ebbdc0bf01",
   "metadata": {},
   "outputs": [
    {
     "data": {
      "image/png": "[encoded data removed]",
      "text/plain": [
       "<Figure size 640x480 with 2 Axes>"
      ]
     },
     "metadata": {},
     "output_type": "display_data"
    }
   ],
   "source": [
    "y_pred_prob = grboost.predict_proba(X_test)[:, 1] \n",
    "\n",
    "# Setting custom threshold\n",
    "threshold = 0.4605210934557429\n",
    "\n",
    "# Convert probabilities to binary predictions based on the threshold\n",
    "y_pred = np.where(y_pred_prob > threshold, 1, 0)\n",
    "\n",
    "# Generate the confusion matrix\n",
    "cm = confusion_matrix(y_test, y_pred)\n",
    "# Visualize the confusion matrix\n",
    "disp = ConfusionMatrixDisplay(confusion_matrix=cm, display_labels=grboost.classes_)\n",
    "disp.plot(cmap=plt.cm.Blues)\n",
    "plt.show()"
   ]
  },
  {
   "cell_type": "markdown",
   "id": "0d1e2169-bce1-42ca-9700-693d914451ab",
   "metadata": {},
   "source": [
    "### Calculate accuracy"
   ]
  },
  {
   "cell_type": "code",
   "execution_count": 32,
   "id": "c95e3223-c7da-4b34-b3a9-6b9e814bf138",
   "metadata": {},
   "outputs": [
    {
     "name": "stdout",
     "output_type": "stream",
     "text": [
      "TP/(TP+FN):  0.7469879518072289\n"
     ]
    }
   ],
   "source": [
    "print(\"TP/(TP+FN): \",cm[1,1]/(cm[1,0]+cm[1,1]))"
   ]
  },
  {
   "cell_type": "code",
   "execution_count": 33,
   "id": "90ea6430-dbb6-4b95-817c-deac36c878d6",
   "metadata": {
    "scrolled": true
   },
   "outputs": [
    {
     "name": "stdout",
     "output_type": "stream",
     "text": [
      "Accuracy:  0.7506361323155216\n"
     ]
    }
   ],
   "source": [
    "print(\"Accuracy: \", (cm[0,0]+cm[1,1])/(cm[0,0]+cm[0,1]+cm[1,0]+cm[1,1]))"
   ]
  },
  {
   "cell_type": "markdown",
   "id": "05a4ab62-c5b2-4440-b29c-aefc250cc1fa",
   "metadata": {},
   "source": [
    "### Generate a dataframe to export results into an excel spreadsheet"
   ]
  },
  {
   "cell_type": "code",
   "execution_count": 34,
   "id": "1ee712f4-86b7-4f51-b905-b4effc91da0c",
   "metadata": {},
   "outputs": [],
   "source": [
    "results = pd.DataFrame({\n",
    "    'Predicted': y_pred,\n",
    "    'Unsuccessful Strategy': y_proba[:, 0],\n",
    "    'Successful Strategy': y_proba[:, 1]\n",
    "})\n",
    "\n",
    "X_test_reset = X_test.reset_index(drop=True)\n",
    "y_test_reset = y_test.reset_index(drop=True)\n",
    "prediction_results = pd.concat([X_test_reset, y_test_reset, results], axis=1)\n"
   ]
  },
  {
   "cell_type": "markdown",
   "id": "aa0a7ebf-1e44-44e3-b2bb-e4b078d1d3e3",
   "metadata": {},
   "source": [
    "* Export results into an excel sheet"
   ]
  },
  {
   "cell_type": "code",
   "execution_count": 35,
   "id": "44f81833-9c44-4968-a3d6-cc95ae892ab3",
   "metadata": {},
   "outputs": [],
   "source": [
    "prediction_results.to_excel(\"final_results.xlsx\")"
   ]
  },
  {
   "cell_type": "markdown",
   "id": "22deff4f-4823-4fd2-a8e4-673130dfb2c0",
   "metadata": {},
   "source": [
    "### Generate a pivot table + Fine adjustments"
   ]
  },
  {
   "cell_type": "markdown",
   "id": "4f8a7694-b6dc-4c19-a9f9-3582c9cfdbf6",
   "metadata": {},
   "source": [
    "* Generate a pivot table"
   ]
  },
  {
   "cell_type": "code",
   "execution_count": 36,
   "id": "d8908032-b4e5-4b25-987f-7895331b5dc5",
   "metadata": {},
   "outputs": [],
   "source": [
    "pivot_df = prediction_results.pivot_table(index=['circuitId', 'number_of_pitstops'], values='Successful Strategy')"
   ]
  },
  {
   "cell_type": "markdown",
   "id": "fef4b65f-458b-4e2e-b382-69c94c7658e2",
   "metadata": {},
   "source": [
    "* Get the most successful strategy per circuit"
   ]
  },
  {
   "cell_type": "code",
   "execution_count": 37,
   "id": "f397a2d6-f78e-4f6b-9ac6-c84d9c2aa59e",
   "metadata": {},
   "outputs": [],
   "source": [
    "final_df = pivot_df.loc[pivot_df.groupby('circuitId')['Successful Strategy'].idxmax()]\n",
    "final_df = final_df.reset_index().set_index(\"circuitId\")"
   ]
  },
  {
   "cell_type": "markdown",
   "id": "e5c24c64-b269-4746-8576-d2d1986af566",
   "metadata": {},
   "source": [
    "* Simplify circuits dataframe columns"
   ]
  },
  {
   "cell_type": "code",
   "execution_count": 38,
   "id": "363e2c68-3679-4961-bc8c-43800d21b637",
   "metadata": {},
   "outputs": [],
   "source": [
    "circuits = circuits[[\"circuitId\", \"name\"]]"
   ]
  },
  {
   "cell_type": "markdown",
   "id": "6194667c-4ac8-4743-a142-6b3e94299401",
   "metadata": {},
   "source": [
    "* Give final shape to final_df"
   ]
  },
  {
   "cell_type": "code",
   "execution_count": 39,
   "id": "ba015935-a84f-4e0f-85f7-256159d0b0ff",
   "metadata": {
    "scrolled": true
   },
   "outputs": [],
   "source": [
    "final_df = final_df.merge(circuits, on = \"circuitId\")\n",
    "final_df = final_df[[\"name\", \"number_of_pitstops\", \"Successful Strategy\"]]\n",
    "final_df = final_df.rename(columns={\"name\":\"Circuit Name\", \"number_of_pitstops\":\"Number of Pitstops\",\n",
    "                                   \"Successful Strategy\":\"Prediction Strength\"})\n",
    "final_df = final_df.sort_values(by=\"Circuit Name\").reset_index(drop=True)"
   ]
  },
  {
   "cell_type": "markdown",
   "id": "0125a4ec-ab06-4a1f-885c-16a6165edb7a",
   "metadata": {},
   "source": [
    "## Calculate Execution Time of Notebook"
   ]
  },
  {
   "cell_type": "code",
   "execution_count": 40,
   "id": "c3147bf9-0cd3-40d7-a909-084edf223f45",
   "metadata": {},
   "outputs": [
    {
     "name": "stdout",
     "output_type": "stream",
     "text": [
      "Total execution time: 212.86 seconds\n"
     ]
    }
   ],
   "source": [
    "end_time = time.time()\n",
    "elapsed_time = end_time - start_time\n",
    "\n",
    "print(f\"Total execution time: {elapsed_time:.2f} seconds\")"
   ]
  },
  {
   "attachments": {},
   "cell_type": "markdown",
   "id": "acb3dc91-a79a-4b76-9901-c220f3bab167",
   "metadata": {},
   "source": [
    "<br>\n",
    "<br>\n",
    "<center>\n",
    "  <img src=\"flag.png\" alt=\"image.png\" width=900>\n",
    "  <h1>RESULTS</h1>\n",
    "</center>\n",
    "\n",
    "<br>\n",
    "<br>"
   ]
  },
  {
   "cell_type": "markdown",
   "id": "f012dd39-bf05-4ab4-acc8-a085219fb4cf",
   "metadata": {},
   "source": [
    "Main objective of this notebook is to answer one simple question:\n",
    "\n",
    "\"What is the optimal pit stop strategy for different tracks?\"\n",
    "\n",
    "Let's break down this statement. By analyzing historical race data for different track, we revealed advantages and uncovered valuable insights such as:\n",
    "\n",
    "**Decision-Making Process**\n",
    "\n",
    "* **Optimal Number of Pit Stops:** Determining how many pit stops are generally most effective for a given track. Some tracks might favor a single stop due to low tire degradation, while others might require multiple stops.\n",
    "* **Strategy Planning:** Before the race, teams can develop a detailed pit stop strategy based on predicted tire degradation rates, expected weather conditions, and historical data from similar races.\n",
    "* **Competitive Edge:** By having a data-driven approach, teams can anticipate and react to race developments more effectively than their competitors who might rely more on intuition or less comprehensive data analysis.\n",
    "\n",
    "**Improved Race Performance**\n",
    "\n",
    "* **Reduced Lap Times:** Minimize the time spent in the pits and ensure that drivers are always on the optimal tires for the current track conditions.\n",
    "* **Better Tire Management:** Ensure that drivers have the best possible grip and performance throughout the race, reducing the risk of tire failures or excessive degradation.\n",
    "* **Effective Overtaking:** Time pit stops to avoid getting stuck in traffic, thus allowing drivers to maintain or improve their positions during the race.\n",
    "* **Adaptability:** Quickly adapt to changing conditions (e.g., sudden weather changes, safety car deployments), ensuring that the team’s strategy remains optimal throughout the race.\n",
    "\n",
    "**Competitiveness**\n",
    "\n",
    "* **Consistent Results:** Achieve more consistent and predictable race outcomes by minimizing the variables that can negatively impact performance.\n",
    "* **Points and Standings:** Accumulate more points in the championship standings through better race finishes, which can be crucial for both drivers’ and constructors’ championships.\n",
    "* **Driver Confidence:** Provide drivers with a clear and well-supported strategy, boosting their confidence and enabling them to focus on driving rather than worrying about tire wear or pit stop timings.\n",
    "\n",
    "<br>"
   ]
  },
  {
   "cell_type": "markdown",
   "id": "6123ff85-f7cb-4123-b1eb-ff9a9cbb9cf3",
   "metadata": {},
   "source": [
    "## Optimal Number of Pitstops per each circuit:\n",
    "\n",
    "These insights to guide real-world pitstop strategy planning, considering factors like tire degradation rates, typical race conditions at each circuit, and weather conditions.\n",
    "\n",
    "<br>"
   ]
  },
  {
   "cell_type": "code",
   "execution_count": 41,
   "id": "5201d646-5da3-48fe-8a35-64f84798a11a",
   "metadata": {},
   "outputs": [
    {
     "data": {
      "text/html": [
       "<div>\n",
       "<style scoped>\n",
       "    .dataframe tbody tr th:only-of-type {\n",
       "        vertical-align: middle;\n",
       "    }\n",
       "\n",
       "    .dataframe tbody tr th {\n",
       "        vertical-align: top;\n",
       "    }\n",
       "\n",
       "    .dataframe thead th {\n",
       "        text-align: right;\n",
       "    }\n",
       "</style>\n",
       "<table border=\"1\" class=\"dataframe\">\n",
       "  <thead>\n",
       "    <tr style=\"text-align: right;\">\n",
       "      <th></th>\n",
       "      <th>Circuit Name</th>\n",
       "      <th>Number of Pitstops</th>\n",
       "      <th>Prediction Strength</th>\n",
       "    </tr>\n",
       "  </thead>\n",
       "  <tbody>\n",
       "    <tr>\n",
       "      <th>0</th>\n",
       "      <td>Albert Park Grand Prix Circuit</td>\n",
       "      <td>2</td>\n",
       "      <td>0.390492</td>\n",
       "    </tr>\n",
       "    <tr>\n",
       "      <th>1</th>\n",
       "      <td>Autodromo Nazionale di Monza</td>\n",
       "      <td>2</td>\n",
       "      <td>0.588236</td>\n",
       "    </tr>\n",
       "    <tr>\n",
       "      <th>2</th>\n",
       "      <td>Autódromo Hermanos Rodríguez</td>\n",
       "      <td>2</td>\n",
       "      <td>0.583187</td>\n",
       "    </tr>\n",
       "    <tr>\n",
       "      <th>3</th>\n",
       "      <td>Autódromo Internacional do Algarve</td>\n",
       "      <td>3</td>\n",
       "      <td>0.419986</td>\n",
       "    </tr>\n",
       "    <tr>\n",
       "      <th>4</th>\n",
       "      <td>Autódromo José Carlos Pace</td>\n",
       "      <td>3</td>\n",
       "      <td>0.522264</td>\n",
       "    </tr>\n",
       "    <tr>\n",
       "      <th>5</th>\n",
       "      <td>Bahrain International Circuit</td>\n",
       "      <td>1</td>\n",
       "      <td>0.713769</td>\n",
       "    </tr>\n",
       "    <tr>\n",
       "      <th>6</th>\n",
       "      <td>Baku City Circuit</td>\n",
       "      <td>3</td>\n",
       "      <td>0.681051</td>\n",
       "    </tr>\n",
       "    <tr>\n",
       "      <th>7</th>\n",
       "      <td>Buddh International Circuit</td>\n",
       "      <td>2</td>\n",
       "      <td>0.597211</td>\n",
       "    </tr>\n",
       "    <tr>\n",
       "      <th>8</th>\n",
       "      <td>Circuit Gilles Villeneuve</td>\n",
       "      <td>2</td>\n",
       "      <td>0.483104</td>\n",
       "    </tr>\n",
       "    <tr>\n",
       "      <th>9</th>\n",
       "      <td>Circuit Paul Ricard</td>\n",
       "      <td>1</td>\n",
       "      <td>0.982263</td>\n",
       "    </tr>\n",
       "    <tr>\n",
       "      <th>10</th>\n",
       "      <td>Circuit de Barcelona-Catalunya</td>\n",
       "      <td>3</td>\n",
       "      <td>0.832694</td>\n",
       "    </tr>\n",
       "    <tr>\n",
       "      <th>11</th>\n",
       "      <td>Circuit de Monaco</td>\n",
       "      <td>1</td>\n",
       "      <td>0.546277</td>\n",
       "    </tr>\n",
       "    <tr>\n",
       "      <th>12</th>\n",
       "      <td>Circuit de Spa-Francorchamps</td>\n",
       "      <td>2</td>\n",
       "      <td>0.306116</td>\n",
       "    </tr>\n",
       "    <tr>\n",
       "      <th>13</th>\n",
       "      <td>Circuit of the Americas</td>\n",
       "      <td>1</td>\n",
       "      <td>0.466651</td>\n",
       "    </tr>\n",
       "    <tr>\n",
       "      <th>14</th>\n",
       "      <td>Hockenheimring</td>\n",
       "      <td>3</td>\n",
       "      <td>0.757986</td>\n",
       "    </tr>\n",
       "    <tr>\n",
       "      <th>15</th>\n",
       "      <td>Hungaroring</td>\n",
       "      <td>3</td>\n",
       "      <td>0.685161</td>\n",
       "    </tr>\n",
       "    <tr>\n",
       "      <th>16</th>\n",
       "      <td>Istanbul Park</td>\n",
       "      <td>1</td>\n",
       "      <td>0.781794</td>\n",
       "    </tr>\n",
       "    <tr>\n",
       "      <th>17</th>\n",
       "      <td>Jeddah Corniche Circuit</td>\n",
       "      <td>1</td>\n",
       "      <td>0.617000</td>\n",
       "    </tr>\n",
       "    <tr>\n",
       "      <th>18</th>\n",
       "      <td>Korean International Circuit</td>\n",
       "      <td>2</td>\n",
       "      <td>0.440746</td>\n",
       "    </tr>\n",
       "    <tr>\n",
       "      <th>19</th>\n",
       "      <td>Losail International Circuit</td>\n",
       "      <td>2</td>\n",
       "      <td>0.990580</td>\n",
       "    </tr>\n",
       "    <tr>\n",
       "      <th>20</th>\n",
       "      <td>Marina Bay Street Circuit</td>\n",
       "      <td>2</td>\n",
       "      <td>0.502620</td>\n",
       "    </tr>\n",
       "    <tr>\n",
       "      <th>21</th>\n",
       "      <td>Nürburgring</td>\n",
       "      <td>3</td>\n",
       "      <td>0.476703</td>\n",
       "    </tr>\n",
       "    <tr>\n",
       "      <th>22</th>\n",
       "      <td>Red Bull Ring</td>\n",
       "      <td>1</td>\n",
       "      <td>0.508816</td>\n",
       "    </tr>\n",
       "    <tr>\n",
       "      <th>23</th>\n",
       "      <td>Sepang International Circuit</td>\n",
       "      <td>3</td>\n",
       "      <td>0.294819</td>\n",
       "    </tr>\n",
       "    <tr>\n",
       "      <th>24</th>\n",
       "      <td>Shanghai International Circuit</td>\n",
       "      <td>3</td>\n",
       "      <td>0.657854</td>\n",
       "    </tr>\n",
       "    <tr>\n",
       "      <th>25</th>\n",
       "      <td>Silverstone Circuit</td>\n",
       "      <td>3</td>\n",
       "      <td>0.486335</td>\n",
       "    </tr>\n",
       "    <tr>\n",
       "      <th>26</th>\n",
       "      <td>Sochi Autodrom</td>\n",
       "      <td>1</td>\n",
       "      <td>0.513007</td>\n",
       "    </tr>\n",
       "    <tr>\n",
       "      <th>27</th>\n",
       "      <td>Suzuka Circuit</td>\n",
       "      <td>1</td>\n",
       "      <td>0.568130</td>\n",
       "    </tr>\n",
       "    <tr>\n",
       "      <th>28</th>\n",
       "      <td>Valencia Street Circuit</td>\n",
       "      <td>3</td>\n",
       "      <td>0.638962</td>\n",
       "    </tr>\n",
       "    <tr>\n",
       "      <th>29</th>\n",
       "      <td>Yas Marina Circuit</td>\n",
       "      <td>2</td>\n",
       "      <td>0.494415</td>\n",
       "    </tr>\n",
       "  </tbody>\n",
       "</table>\n",
       "</div>"
      ],
      "text/plain": [
       "                          Circuit Name  Number of Pitstops  \\\n",
       "0       Albert Park Grand Prix Circuit                   2   \n",
       "1         Autodromo Nazionale di Monza                   2   \n",
       "2         Autódromo Hermanos Rodríguez                   2   \n",
       "3   Autódromo Internacional do Algarve                   3   \n",
       "4           Autódromo José Carlos Pace                   3   \n",
       "5        Bahrain International Circuit                   1   \n",
       "6                    Baku City Circuit                   3   \n",
       "7          Buddh International Circuit                   2   \n",
       "8            Circuit Gilles Villeneuve                   2   \n",
       "9                  Circuit Paul Ricard                   1   \n",
       "10      Circuit de Barcelona-Catalunya                   3   \n",
       "11                   Circuit de Monaco                   1   \n",
       "12        Circuit de Spa-Francorchamps                   2   \n",
       "13             Circuit of the Americas                   1   \n",
       "14                      Hockenheimring                   3   \n",
       "15                         Hungaroring                   3   \n",
       "16                       Istanbul Park                   1   \n",
       "17             Jeddah Corniche Circuit                   1   \n",
       "18        Korean International Circuit                   2   \n",
       "19        Losail International Circuit                   2   \n",
       "20           Marina Bay Street Circuit                   2   \n",
       "21                         Nürburgring                   3   \n",
       "22                       Red Bull Ring                   1   \n",
       "23        Sepang International Circuit                   3   \n",
       "24      Shanghai International Circuit                   3   \n",
       "25                 Silverstone Circuit                   3   \n",
       "26                      Sochi Autodrom                   1   \n",
       "27                      Suzuka Circuit                   1   \n",
       "28             Valencia Street Circuit                   3   \n",
       "29                  Yas Marina Circuit                   2   \n",
       "\n",
       "    Prediction Strength  \n",
       "0              0.390492  \n",
       "1              0.588236  \n",
       "2              0.583187  \n",
       "3              0.419986  \n",
       "4              0.522264  \n",
       "5              0.713769  \n",
       "6              0.681051  \n",
       "7              0.597211  \n",
       "8              0.483104  \n",
       "9              0.982263  \n",
       "10             0.832694  \n",
       "11             0.546277  \n",
       "12             0.306116  \n",
       "13             0.466651  \n",
       "14             0.757986  \n",
       "15             0.685161  \n",
       "16             0.781794  \n",
       "17             0.617000  \n",
       "18             0.440746  \n",
       "19             0.990580  \n",
       "20             0.502620  \n",
       "21             0.476703  \n",
       "22             0.508816  \n",
       "23             0.294819  \n",
       "24             0.657854  \n",
       "25             0.486335  \n",
       "26             0.513007  \n",
       "27             0.568130  \n",
       "28             0.638962  \n",
       "29             0.494415  "
      ]
     },
     "execution_count": 41,
     "metadata": {},
     "output_type": "execute_result"
    }
   ],
   "source": [
    "final_df"
   ]
  },
  {
   "cell_type": "markdown",
   "id": "a0e9826a-38d4-4290-977b-0307594e6300",
   "metadata": {},
   "source": [
    "## Frequency of most successful Pitstop Strategy"
   ]
  },
  {
   "cell_type": "code",
   "execution_count": 42,
   "id": "eeb51b5c-2598-4940-bf27-3b9329aa900c",
   "metadata": {},
   "outputs": [
    {
     "data": {
      "image/png": "[encoded data removed]",
      "text/plain": [
       "<Figure size 700x500 with 1 Axes>"
      ]
     },
     "metadata": {},
     "output_type": "display_data"
    }
   ],
   "source": [
    "plt.figure(figsize=(7,5))\n",
    "plt.hist(final_df[\"Number of Pitstops\"], bins = 5, color=\"skyblue\")\n",
    "plt.title(\"Frequency of most successful pitstop strategy\")\n",
    "plt.xlabel(\"Pitstop counts\")\n",
    "plt.ylabel(\"Occurance among circuits\")\n",
    "plt.xticks([1, 2, 3])\n",
    "plt.grid(True)\n",
    "plt.show()"
   ]
  }
 ],
 "metadata": {
  "kernelspec": {
   "display_name": "Python 3 (ipykernel)",
   "language": "python",
   "name": "python3"
  },
  "language_info": {
   "codemirror_mode": {
    "name": "ipython",
    "version": 3
   },
   "file_extension": ".py",
   "mimetype": "text/x-python",
   "name": "python",
   "nbconvert_exporter": "python",
   "pygments_lexer": "ipython3",
   "version": "3.11.8"
  }
 },
 "nbformat": 4,
 "nbformat_minor": 5
}
